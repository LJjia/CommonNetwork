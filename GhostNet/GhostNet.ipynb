{
 "cells": [
  {
   "cell_type": "markdown",
   "id": "152cf936-b806-4f29-b10c-48cd7959a0e1",
   "metadata": {},
   "source": [
    "# GhostNet\n",
    "\n",
    "这据说是华为提出的一个比shufflenet,mobilenet更强的网络"
   ]
  },
  {
   "cell_type": "code",
   "execution_count": null,
   "id": "3e2e4ae0-fc2f-41c3-b74c-a609b2e52f10",
   "metadata": {},
   "outputs": [],
   "source": []
  }
 ],
 "metadata": {
  "kernelspec": {
   "display_name": "Python 3 (ipykernel)",
   "language": "python",
   "name": "python3"
  },
  "language_info": {
   "codemirror_mode": {
    "name": "ipython",
    "version": 3
   },
   "file_extension": ".py",
   "mimetype": "text/x-python",
   "name": "python",
   "nbconvert_exporter": "python",
   "pygments_lexer": "ipython3",
   "version": "3.8.12"
  }
 },
 "nbformat": 4,
 "nbformat_minor": 5
}
