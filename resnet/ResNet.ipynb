{
 "cells": [
  {
   "cell_type": "markdown",
   "id": "d08f1c35-34d0-46bc-98bc-f7b32cc767f1",
   "metadata": {},
   "source": [
    "# ResNet18 实现"
   ]
  },
  {
   "cell_type": "markdown",
   "id": "761a3eec-abb4-452f-ab81-23563071d262",
   "metadata": {},
   "source": [
    "![pic](resnet18.jpg)"
   ]
  },
  {
   "cell_type": "code",
   "execution_count": 1,
   "id": "ada874b8-81f6-4b95-a6f7-c70b357aa4d1",
   "metadata": {},
   "outputs": [
    {
     "name": "stdout",
     "output_type": "stream",
     "text": [
      "1.10.1\n"
     ]
    }
   ],
   "source": [
    "%matplotlib inline\n",
    "import torch\n",
    "from torch import nn\n",
    "from torch.nn import functional as F\n",
    "import torchvision.datasets as datasets\n",
    "import torchvision.transforms as transforms\n",
    "import torch.optim as optim\n",
    "from tqdm import tqdm\n",
    "import os\n",
    "print(torch.__version__)"
   ]
  },
  {
   "cell_type": "code",
   "execution_count": 2,
   "id": "dc5d2395-41a7-4bdf-b8a7-a6f9d0488913",
   "metadata": {},
   "outputs": [],
   "source": [
    "#prepare dataset and preprocessing\n",
    "transform_train = transforms.Compose([\n",
    "    transforms.RandomCrop(32, padding=4),\n",
    "    transforms.RandomHorizontalFlip(),\n",
    "    # 至少要加上下面这句ToTensor\n",
    "    transforms.ToTensor(),\n",
    "    # ciaf10固有均值标准差\n",
    "    transforms.Normalize((0.4914, 0.4822, 0.4465), (0.2023, 0.1994, 0.2010))\n",
    "])\n",
    "\n",
    "transform_test = transforms.Compose([\n",
    "    # 至少要加上下面这句ToTensor\n",
    "    transforms.ToTensor(),\n",
    "    transforms.Normalize((0.4914, 0.4822, 0.4465), (0.2023, 0.1994, 0.2010))\n",
    "])"
   ]
  },
  {
   "cell_type": "markdown",
   "id": "290468a5-98c7-4e2d-afea-1a4edb87bdec",
   "metadata": {},
   "source": [
    "## 加载数据集"
   ]
  },
  {
   "cell_type": "code",
   "execution_count": 2,
   "id": "dabfc28b-95bc-4ba3-985d-142720cec840",
   "metadata": {},
   "outputs": [
    {
     "name": "stdout",
     "output_type": "stream",
     "text": [
      "data source D:/data/image/\n"
     ]
    },
    {
     "ename": "NameError",
     "evalue": "name 'transform_train' is not defined",
     "output_type": "error",
     "traceback": [
      "\u001b[0;31m---------------------------------------------------------------------------\u001b[0m",
      "\u001b[0;31mNameError\u001b[0m                                 Traceback (most recent call last)",
      "\u001b[0;32m/var/folders/ny/nnnvvq_s1x36d_w6xwxfqzpr0000gn/T/ipykernel_928/314035168.py\u001b[0m in \u001b[0;36m<module>\u001b[0;34m\u001b[0m\n\u001b[1;32m      9\u001b[0m \u001b[0mprint\u001b[0m\u001b[0;34m(\u001b[0m\u001b[0;34m\"data source\"\u001b[0m\u001b[0;34m,\u001b[0m\u001b[0mdata_dir\u001b[0m\u001b[0;34m)\u001b[0m\u001b[0;34m\u001b[0m\u001b[0;34m\u001b[0m\u001b[0m\n\u001b[1;32m     10\u001b[0m train_set=datasets.CIFAR10(root=data_dir,\n\u001b[0;32m---> 11\u001b[0;31m                         \u001b[0mtransform\u001b[0m\u001b[0;34m=\u001b[0m\u001b[0mtransform_train\u001b[0m\u001b[0;34m,\u001b[0m\u001b[0;34m\u001b[0m\u001b[0;34m\u001b[0m\u001b[0m\n\u001b[0m\u001b[1;32m     12\u001b[0m                         \u001b[0mtrain\u001b[0m\u001b[0;34m=\u001b[0m\u001b[0;32mTrue\u001b[0m\u001b[0;34m,\u001b[0m\u001b[0;34m\u001b[0m\u001b[0;34m\u001b[0m\u001b[0m\n\u001b[1;32m     13\u001b[0m                         download=True)\n",
      "\u001b[0;31mNameError\u001b[0m: name 'transform_train' is not defined"
     ]
    }
   ],
   "source": [
    "# minist数据集\n",
    "# 正常来说,train_set这个类是需要自己定义的,但是在官方数据集中已经给定义好了\n",
    "data_dir=\"D:/data/image/\"\n",
    "if not os.path.exists(data_dir):\n",
    "    # 尝试mac的文件夹\n",
    "    data_dir=\"~/data\"\n",
    "    if not os.path.exists(data_dir):\n",
    "            raise FileExistsError(\"data source not exist!\")\n",
    "    \n",
    "print(\"data source\",data_dir)\n",
    "train_set=datasets.CIFAR10(root=data_dir,\n",
    "                        transform=transform_train,\n",
    "                        train=True,\n",
    "                        download=True)\n",
    "\n",
    "val_set=datasets.CIFAR10(root=data_dir,\n",
    "                        transform=transform_test,\n",
    "                        train=False,\n",
    "                        download=True)\n",
    "print('train data',len(train_set))\n",
    "print('val data',len(train_set))"
   ]
  },
  {
   "cell_type": "code",
   "execution_count": 15,
   "id": "1eb375c8-c3cf-4af0-aa27-24553646a35f",
   "metadata": {},
   "outputs": [
    {
     "name": "stdout",
     "output_type": "stream",
     "text": [
      "use device: cuda\n"
     ]
    }
   ],
   "source": [
    "epoch_total=30\n",
    "batch=64\n",
    "lr=0.01\n",
    "device=torch.device('cuda'if torch.cuda.is_available() else 'cpu')\n",
    "classes = ('plane', 'car', 'bird', 'cat', 'deer', 'dog', 'frog', 'horse', 'ship', 'truck')\n",
    "print('use device:',device)"
   ]
  },
  {
   "cell_type": "code",
   "execution_count": 5,
   "id": "a0bb4f8e-0cb2-4a4d-8f99-ae61c6e2f9e0",
   "metadata": {},
   "outputs": [],
   "source": [
    "train_loader = torch.utils.data.DataLoader(train_set, batch_size=batch,\n",
    "                                         shuffle=True, num_workers=4)\n",
    "val_loader = torch.utils.data.DataLoader(val_set, batch_size=batch,\n",
    "                                         shuffle=False, num_workers=4)"
   ]
  },
  {
   "cell_type": "code",
   "execution_count": 6,
   "id": "57a41763-5be2-4857-a567-00b0de8ad262",
   "metadata": {},
   "outputs": [],
   "source": [
    "# Residual 残差块\n",
    "class Residual(nn.Module):\n",
    "    def __init__(self,input_channel,out_channel,kersize=3,use_1x1=False,strides=1):\n",
    "        super().__init__()\n",
    "        # 第一层是输入->输出 ,可能会有深度变化\n",
    "        self.conv1=nn.Conv2d(input_channel,out_channel,kersize,padding=1,stride=strides)\n",
    "        # 第二层就是输出->输出,没有深度变化,也没有跨距变化\n",
    "        self.conv2=nn.Conv2d(out_channel,out_channel,kersize,padding=1,stride=1)\n",
    "        self.bn1=nn.BatchNorm2d(out_channel)\n",
    "        self.bn2=nn.BatchNorm2d(out_channel)\n",
    "        if(use_1x1):\n",
    "            self.short=nn.Conv2d(input_channel,out_channel,kernel_size=(1,1),stride=strides)\n",
    "        else:\n",
    "            self.short=None\n",
    "    def forward(self,x):\n",
    "        y=self.conv1(x)\n",
    "        y=self.bn1(y)\n",
    "        y=F.relu(y)\n",
    "        y=self.conv2(y)\n",
    "        y=self.bn2(y)\n",
    "        if(self.short):\n",
    "            x=self.short(x)\n",
    "        y=y+x\n",
    "        F.relu(y)\n",
    "        return y\n",
    "        \n",
    "        "
   ]
  },
  {
   "cell_type": "markdown",
   "id": "efacf3d2-ce12-4808-986a-6fa053537bd7",
   "metadata": {},
   "source": [
    "标准resnet使用的是224x224的图片\n",
    "\n",
    "CIFAR10图片为3x32x32能跑,但是因为图片太小,最后的卷积可能效果不好\n",
    "\n",
    "可以尝试稍微改动下模型,比如修改第一层的输入跨距"
   ]
  },
  {
   "cell_type": "code",
   "execution_count": 7,
   "id": "8f22d6da-ce5c-4af2-8c5a-23b6ae8cefc1",
   "metadata": {},
   "outputs": [],
   "source": [
    "# 标准reset 18\n",
    "class ResetNet18(nn.Module):\n",
    "    def __init__(self,input_channel,out_label):\n",
    "        super().__init__()\n",
    "        self.bn1=nn.Sequential(\n",
    "            nn.Conv2d(input_channel,64,7,stride=2,padding=3),\n",
    "            nn.BatchNorm2d(64),nn.ReLU(),\n",
    "            nn.MaxPool2d(kernel_size=3,stride=2,padding=1)\n",
    "        )\n",
    "        self.bn2=nn.Sequential(*self.res_block(64,64,2,bfirst=True))\n",
    "        self.bn3=nn.Sequential(*self.res_block(64,128,2))\n",
    "        self.bn4=nn.Sequential(*self.res_block(128,256,2))\n",
    "        self.bn5=nn.Sequential(*self.res_block(256,512,2))\n",
    "        self.full=nn.Sequential(nn.AdaptiveAvgPool2d((1,1)),nn.Flatten(), nn.Linear(512, out_label))\n",
    "        \n",
    "    def res_block(self,input_channel,out_channel,num_block,bfirst=False):\n",
    "        blk=[]\n",
    "        for i in range(num_block):\n",
    "            if(i==0 and not bfirst):\n",
    "                # 一般第一个块需要降维\n",
    "                # 降维则是wh缩减为一半,深度增加为2倍\n",
    "                blk.append(Residual(input_channel,out_channel,use_1x1=True,strides=2))\n",
    "            else:\n",
    "                # 第一层比较特殊,输入输出相同宽度,所以直接可都用out_channel变量\n",
    "                blk.append(Residual(out_channel,out_channel))\n",
    "        # print(\"make block \",blk)\n",
    "        return blk\n",
    "\n",
    "    def forward(self,x):\n",
    "\n",
    "        y=self.bn1(x)\n",
    "        y=self.bn2(y)\n",
    "        y=self.bn3(y)\n",
    "        y=self.bn4(y)\n",
    "        y=self.bn5(y)\n",
    "        y=self.full(y)\n",
    "        return y"
   ]
  },
  {
   "cell_type": "code",
   "execution_count": 8,
   "id": "0e3a0c7b-b3a0-49a6-85e3-94a75a0f75c6",
   "metadata": {},
   "outputs": [
    {
     "name": "stdout",
     "output_type": "stream",
     "text": [
      "torch.Size([4, 10])\n"
     ]
    }
   ],
   "source": [
    "# 送一个数据进去实验一下\n",
    "X=torch.rand(4,3,32,32)\n",
    "net=ResetNet18(3,10)\n",
    "out=net(X)\n",
    "print(out.shape)"
   ]
  },
  {
   "cell_type": "code",
   "execution_count": 9,
   "id": "839d91f4-0238-4b67-8016-c3aa24129e63",
   "metadata": {},
   "outputs": [],
   "source": [
    "# 送到设备上\n",
    "net.to(device);"
   ]
  },
  {
   "cell_type": "code",
   "execution_count": 10,
   "id": "4a718129-a0fe-4277-8cd5-e35630f2384c",
   "metadata": {},
   "outputs": [],
   "source": [
    "criterion=nn.CrossEntropyLoss()\n",
    "# 0.9倍当前的梯度+0.1倍上次的梯度\n",
    "optimizer=optim.SGD(net.parameters(),lr=lr,momentum=0.9)"
   ]
  },
  {
   "cell_type": "code",
   "execution_count": 11,
   "id": "351998a2-5d87-43f9-a25d-4df9ebec5084",
   "metadata": {},
   "outputs": [
    {
     "name": "stdout",
     "output_type": "stream",
     "text": [
      "torch.Size([64, 3, 32, 32]) torch.Size([64])\n"
     ]
    }
   ],
   "source": [
    "# 测试一下 dataloader\n",
    "iterator=iter(train_loader)\n",
    "data,label=next(iterator)\n",
    "print(data.size(),label.size())"
   ]
  },
  {
   "cell_type": "code",
   "execution_count": 12,
   "id": "c8316c4b-a41b-4421-bcc8-718fb261c49e",
   "metadata": {},
   "outputs": [],
   "source": [
    "def train():\n",
    "    net.train()\n",
    "    train_total_len=len(train_set)\n",
    "    # 需要注意这里写的是train_set的长度,如果写错成train_loader,返回的是数据集一共有多少个batch\n",
    "    with tqdm(total=train_total_len,desc=f'Train:') as pbar:\n",
    "        for idx,data in enumerate(train_loader):\n",
    "            data,label=data\n",
    "            data,label=data.to(device),label.to(device)\n",
    "            optimizer.zero_grad()\n",
    "            # forward\n",
    "            outputs=net(data)\n",
    "            loss=criterion(outputs,label)\n",
    "            loss.backward()\n",
    "            optimizer.step()\n",
    "            # 更新进度条\n",
    "            pbar.update(batch)\n"
   ]
  },
  {
   "cell_type": "code",
   "execution_count": 42,
   "id": "6c7a35d8-51a1-4111-98ec-66bb8205d5e5",
   "metadata": {},
   "outputs": [],
   "source": [
    "def test():\n",
    "    # eval 模式下,dropout失效,bn层参数采用之前训练的,不更新\n",
    "    net.eval()\n",
    "    val_loss=0\n",
    "    correct=0\n",
    "    total_num=len(val_set)\n",
    "    with tqdm(total=total_num,desc=f'Validation:') as pbar:\n",
    "        # 不计算损失,这样速度更快\n",
    "        with torch.no_grad():\n",
    "            for idx,data in enumerate(val_loader):\n",
    "                x,y=data\n",
    "                x,y=x.to(device),y.to(device)\n",
    "                optimizer.zero_grad()\n",
    "                y_pre=net(x)\n",
    "                val_loss+=criterion(y_pre,y).item()\n",
    "                # max 第一个返回的是元素值,第二个为索引值\n",
    "                # 求第一个维度的max,因此结果返回的是batch维度的max\n",
    "                # 返回是一个第一个元素为值,第二个元素为idx的tuple\n",
    "                pred=torch.max(y_pre,dim=1)[1]\n",
    "                \n",
    "                # pred维度为batch,每个元素为索引\n",
    "                correct+=pred.eq(y).sum().item()\n",
    "                # 更新进度条\n",
    "                pbar.update(batch)\n",
    "        # 格式化打印直接有% 带f%这种{:.2f%}是错的格式,format这种有点坑\n",
    "        print(\"test loss {},accuracy {:.2%}\".format(val_loss,correct/total_num))\n",
    "        \n",
    "            \n",
    "        "
   ]
  },
  {
   "cell_type": "code",
   "execution_count": 43,
   "id": "4b5eb43a-c0ec-4729-86be-75f872e69f37",
   "metadata": {},
   "outputs": [
    {
     "name": "stdout",
     "output_type": "stream",
     "text": [
      "epoch: 0\n"
     ]
    },
    {
     "name": "stderr",
     "output_type": "stream",
     "text": [
      "Train:: 50048it [00:17, 2844.88it/s]                                                                                                 \n",
      "Validation:: 10048it [00:05, 1764.95it/s]                                                                                            \n"
     ]
    },
    {
     "name": "stdout",
     "output_type": "stream",
     "text": [
      "test loss 131.11734211444855,accuracy 71.03%\n",
      "epoch: 1\n"
     ]
    },
    {
     "name": "stderr",
     "output_type": "stream",
     "text": [
      "Train:: 50048it [00:17, 2832.30it/s]                                                                                                 \n",
      "Validation:: 10048it [00:05, 1765.54it/s]                                                                                            \n"
     ]
    },
    {
     "name": "stdout",
     "output_type": "stream",
     "text": [
      "test loss 118.028868496418,accuracy 73.67%\n",
      "epoch: 2\n"
     ]
    },
    {
     "name": "stderr",
     "output_type": "stream",
     "text": [
      "Train:: 50048it [00:17, 2877.27it/s]                                                                                                 \n",
      "Validation:: 10048it [00:05, 1772.82it/s]                                                                                            \n"
     ]
    },
    {
     "name": "stdout",
     "output_type": "stream",
     "text": [
      "test loss 111.20981541275978,accuracy 75.50%\n",
      "epoch: 3\n"
     ]
    },
    {
     "name": "stderr",
     "output_type": "stream",
     "text": [
      "Train:: 50048it [00:17, 2877.41it/s]                                                                                                 \n",
      "Validation:: 10048it [00:05, 1776.84it/s]                                                                                            \n"
     ]
    },
    {
     "name": "stdout",
     "output_type": "stream",
     "text": [
      "test loss 109.04911902546883,accuracy 75.77%\n",
      "epoch: 4\n"
     ]
    },
    {
     "name": "stderr",
     "output_type": "stream",
     "text": [
      "Train:: 50048it [00:17, 2872.27it/s]                                                                                                 \n",
      "Validation:: 10048it [00:05, 1757.99it/s]                                                                                            \n"
     ]
    },
    {
     "name": "stdout",
     "output_type": "stream",
     "text": [
      "test loss 105.23417779803276,accuracy 76.97%\n",
      "epoch: 5\n"
     ]
    },
    {
     "name": "stderr",
     "output_type": "stream",
     "text": [
      "Train:: 50048it [00:17, 2795.65it/s]                                                                                                 \n",
      "Validation:: 10048it [00:05, 1774.23it/s]                                                                                            \n"
     ]
    },
    {
     "name": "stdout",
     "output_type": "stream",
     "text": [
      "test loss 108.92613685131073,accuracy 75.85%\n",
      "epoch: 6\n"
     ]
    },
    {
     "name": "stderr",
     "output_type": "stream",
     "text": [
      "Train:: 50048it [00:17, 2857.32it/s]                                                                                                 \n",
      "Validation:: 10048it [00:05, 1776.47it/s]                                                                                            \n"
     ]
    },
    {
     "name": "stdout",
     "output_type": "stream",
     "text": [
      "test loss 101.0473915040493,accuracy 78.03%\n",
      "epoch: 7\n"
     ]
    },
    {
     "name": "stderr",
     "output_type": "stream",
     "text": [
      "Train:: 50048it [00:17, 2880.31it/s]                                                                                                 \n",
      "Validation:: 10048it [00:05, 1779.78it/s]                                                                                            \n"
     ]
    },
    {
     "name": "stdout",
     "output_type": "stream",
     "text": [
      "test loss 99.22572460770607,accuracy 78.08%\n",
      "epoch: 8\n"
     ]
    },
    {
     "name": "stderr",
     "output_type": "stream",
     "text": [
      "Train:: 50048it [00:17, 2856.65it/s]                                                                                                 \n",
      "Validation:: 10048it [00:05, 1778.98it/s]                                                                                            \n"
     ]
    },
    {
     "name": "stdout",
     "output_type": "stream",
     "text": [
      "test loss 103.96464204788208,accuracy 76.93%\n",
      "epoch: 9\n"
     ]
    },
    {
     "name": "stderr",
     "output_type": "stream",
     "text": [
      "Train:: 50048it [00:17, 2880.21it/s]                                                                                                 \n",
      "Validation:: 10048it [00:05, 1774.17it/s]                                                                                            \n"
     ]
    },
    {
     "name": "stdout",
     "output_type": "stream",
     "text": [
      "test loss 94.17370548844337,accuracy 79.40%\n",
      "epoch: 10\n"
     ]
    },
    {
     "name": "stderr",
     "output_type": "stream",
     "text": [
      "Train:: 50048it [00:17, 2869.93it/s]                                                                                                 \n",
      "Validation:: 10048it [00:05, 1773.21it/s]                                                                                            \n"
     ]
    },
    {
     "name": "stdout",
     "output_type": "stream",
     "text": [
      "test loss 97.02327623963356,accuracy 78.67%\n",
      "epoch: 11\n"
     ]
    },
    {
     "name": "stderr",
     "output_type": "stream",
     "text": [
      "Train:: 50048it [00:17, 2888.36it/s]                                                                                                 \n",
      "Validation:: 10048it [00:05, 1757.90it/s]                                                                                            \n"
     ]
    },
    {
     "name": "stdout",
     "output_type": "stream",
     "text": [
      "test loss 92.05853220820427,accuracy 80.33%\n",
      "epoch: 12\n"
     ]
    },
    {
     "name": "stderr",
     "output_type": "stream",
     "text": [
      "Train:: 50048it [00:17, 2881.15it/s]                                                                                                 \n",
      "Validation:: 10048it [00:05, 1775.94it/s]                                                                                            \n"
     ]
    },
    {
     "name": "stdout",
     "output_type": "stream",
     "text": [
      "test loss 89.88909649848938,accuracy 80.33%\n",
      "epoch: 13\n"
     ]
    },
    {
     "name": "stderr",
     "output_type": "stream",
     "text": [
      "Train:: 50048it [00:17, 2877.28it/s]                                                                                                 \n",
      "Validation:: 10048it [00:05, 1770.70it/s]                                                                                            \n"
     ]
    },
    {
     "name": "stdout",
     "output_type": "stream",
     "text": [
      "test loss 93.46342650055885,accuracy 79.04%\n",
      "epoch: 14\n"
     ]
    },
    {
     "name": "stderr",
     "output_type": "stream",
     "text": [
      "Train:: 50048it [00:17, 2890.68it/s]                                                                                                 \n",
      "Validation:: 10048it [00:05, 1780.89it/s]                                                                                            \n"
     ]
    },
    {
     "name": "stdout",
     "output_type": "stream",
     "text": [
      "test loss 91.83916383981705,accuracy 80.36%\n",
      "epoch: 15\n"
     ]
    },
    {
     "name": "stderr",
     "output_type": "stream",
     "text": [
      "Train:: 50048it [00:17, 2849.86it/s]                                                                                                 \n",
      "Validation:: 10048it [00:05, 1786.70it/s]                                                                                            \n"
     ]
    },
    {
     "name": "stdout",
     "output_type": "stream",
     "text": [
      "test loss 89.07499961555004,accuracy 81.10%\n",
      "epoch: 16\n"
     ]
    },
    {
     "name": "stderr",
     "output_type": "stream",
     "text": [
      "Train:: 50048it [00:17, 2893.26it/s]                                                                                                 \n",
      "Validation:: 10048it [00:05, 1788.82it/s]                                                                                            \n"
     ]
    },
    {
     "name": "stdout",
     "output_type": "stream",
     "text": [
      "test loss 87.15135458111763,accuracy 81.01%\n",
      "epoch: 17\n"
     ]
    },
    {
     "name": "stderr",
     "output_type": "stream",
     "text": [
      "Train:: 50048it [00:17, 2881.57it/s]                                                                                                 \n",
      "Validation:: 10048it [00:05, 1783.84it/s]                                                                                            \n"
     ]
    },
    {
     "name": "stdout",
     "output_type": "stream",
     "text": [
      "test loss 87.75441151857376,accuracy 81.05%\n",
      "epoch: 18\n"
     ]
    },
    {
     "name": "stderr",
     "output_type": "stream",
     "text": [
      "Train:: 50048it [00:17, 2893.99it/s]                                                                                                 \n",
      "Validation:: 10048it [00:05, 1790.73it/s]                                                                                            \n"
     ]
    },
    {
     "name": "stdout",
     "output_type": "stream",
     "text": [
      "test loss 86.96920646727085,accuracy 81.44%\n",
      "epoch: 19\n"
     ]
    },
    {
     "name": "stderr",
     "output_type": "stream",
     "text": [
      "Train:: 50048it [00:17, 2881.26it/s]                                                                                                 \n",
      "Validation:: 10048it [00:05, 1782.51it/s]                                                                                            \n"
     ]
    },
    {
     "name": "stdout",
     "output_type": "stream",
     "text": [
      "test loss 87.10530969500542,accuracy 81.41%\n",
      "epoch: 20\n"
     ]
    },
    {
     "name": "stderr",
     "output_type": "stream",
     "text": [
      "Train:: 50048it [00:17, 2898.15it/s]                                                                                                 \n",
      "Validation:: 10048it [00:05, 1767.80it/s]                                                                                            \n"
     ]
    },
    {
     "name": "stdout",
     "output_type": "stream",
     "text": [
      "test loss 87.43953198194504,accuracy 81.17%\n",
      "epoch: 21\n"
     ]
    },
    {
     "name": "stderr",
     "output_type": "stream",
     "text": [
      "Train:: 50048it [00:17, 2878.69it/s]                                                                                                 \n",
      "Validation:: 10048it [00:05, 1773.96it/s]                                                                                            \n"
     ]
    },
    {
     "name": "stdout",
     "output_type": "stream",
     "text": [
      "test loss 82.48810589313507,accuracy 82.27%\n",
      "epoch: 22\n"
     ]
    },
    {
     "name": "stderr",
     "output_type": "stream",
     "text": [
      "Train:: 50048it [00:17, 2866.43it/s]                                                                                                 \n",
      "Validation:: 10048it [00:05, 1770.92it/s]                                                                                            \n"
     ]
    },
    {
     "name": "stdout",
     "output_type": "stream",
     "text": [
      "test loss 79.35491527616978,accuracy 83.31%\n",
      "epoch: 23\n"
     ]
    },
    {
     "name": "stderr",
     "output_type": "stream",
     "text": [
      "Train:: 50048it [00:17, 2877.74it/s]                                                                                                 \n",
      "Validation:: 10048it [00:05, 1782.78it/s]                                                                                            \n"
     ]
    },
    {
     "name": "stdout",
     "output_type": "stream",
     "text": [
      "test loss 85.7786630988121,accuracy 81.40%\n",
      "epoch: 24\n"
     ]
    },
    {
     "name": "stderr",
     "output_type": "stream",
     "text": [
      "Train:: 50048it [00:17, 2860.76it/s]                                                                                                 \n",
      "Validation:: 10048it [00:05, 1779.94it/s]                                                                                            \n"
     ]
    },
    {
     "name": "stdout",
     "output_type": "stream",
     "text": [
      "test loss 85.35498857498169,accuracy 82.25%\n",
      "epoch: 25\n"
     ]
    },
    {
     "name": "stderr",
     "output_type": "stream",
     "text": [
      "Train:: 50048it [00:17, 2879.91it/s]                                                                                                 \n",
      "Validation:: 10048it [00:05, 1779.74it/s]                                                                                            \n"
     ]
    },
    {
     "name": "stdout",
     "output_type": "stream",
     "text": [
      "test loss 85.08455780148506,accuracy 82.41%\n",
      "epoch: 26\n"
     ]
    },
    {
     "name": "stderr",
     "output_type": "stream",
     "text": [
      "Train:: 50048it [00:17, 2864.42it/s]                                                                                                 \n",
      "Validation:: 10048it [00:05, 1761.22it/s]                                                                                            \n"
     ]
    },
    {
     "name": "stdout",
     "output_type": "stream",
     "text": [
      "test loss 79.68626298010349,accuracy 83.10%\n",
      "epoch: 27\n"
     ]
    },
    {
     "name": "stderr",
     "output_type": "stream",
     "text": [
      "Train:: 50048it [00:17, 2862.10it/s]                                                                                                 \n",
      "Validation:: 10048it [00:05, 1761.51it/s]                                                                                            \n"
     ]
    },
    {
     "name": "stdout",
     "output_type": "stream",
     "text": [
      "test loss 80.57792191207409,accuracy 83.06%\n",
      "epoch: 28\n"
     ]
    },
    {
     "name": "stderr",
     "output_type": "stream",
     "text": [
      "Train:: 50048it [00:17, 2812.04it/s]                                                                                                 \n",
      "Validation:: 10048it [00:05, 1777.58it/s]                                                                                            \n"
     ]
    },
    {
     "name": "stdout",
     "output_type": "stream",
     "text": [
      "test loss 81.04605334997177,accuracy 82.99%\n",
      "epoch: 29\n"
     ]
    },
    {
     "name": "stderr",
     "output_type": "stream",
     "text": [
      "Train:: 50048it [00:17, 2867.09it/s]                                                                                                 \n",
      "Validation:: 10048it [00:05, 1769.03it/s]                                                                                            "
     ]
    },
    {
     "name": "stdout",
     "output_type": "stream",
     "text": [
      "test loss 84.70116354525089,accuracy 82.19%\n",
      "Wall time: 11min 33s\n"
     ]
    },
    {
     "name": "stderr",
     "output_type": "stream",
     "text": [
      "\n"
     ]
    }
   ],
   "source": [
    "%%time\n",
    "# 跑一个epoch大概十分钟\n",
    "# 实在太慢,就不在mac上运行了\n",
    "for epoch in range(epoch_total):\n",
    "    print('epoch:',epoch)\n",
    "    train()\n",
    "    test()"
   ]
  },
  {
   "cell_type": "code",
   "execution_count": null,
   "id": "a26b6135-49e5-4194-90f8-837ca2efbcba",
   "metadata": {},
   "outputs": [],
   "source": []
  },
  {
   "cell_type": "code",
   "execution_count": 44,
   "id": "af5bccba-6766-4691-81fb-15c618f5cad7",
   "metadata": {},
   "outputs": [
    {
     "name": "stdout",
     "output_type": "stream",
     "text": [
      "epoch: 0\n"
     ]
    },
    {
     "name": "stderr",
     "output_type": "stream",
     "text": [
      "Train:: 50048it [00:17, 2884.26it/s]                                                                                                 \n",
      "Validation:: 10048it [00:05, 1799.54it/s]                                                                                            \n"
     ]
    },
    {
     "name": "stdout",
     "output_type": "stream",
     "text": [
      "test loss 80.20117615163326,accuracy 83.44%\n",
      "epoch: 1\n"
     ]
    },
    {
     "name": "stderr",
     "output_type": "stream",
     "text": [
      "Train:: 50048it [00:17, 2861.28it/s]                                                                                                 \n",
      "Validation:: 10048it [00:05, 1796.50it/s]                                                                                            \n"
     ]
    },
    {
     "name": "stdout",
     "output_type": "stream",
     "text": [
      "test loss 84.87753988802433,accuracy 82.93%\n",
      "epoch: 2\n"
     ]
    },
    {
     "name": "stderr",
     "output_type": "stream",
     "text": [
      "Train:: 50048it [00:17, 2896.24it/s]                                                                                                 \n",
      "Validation:: 10048it [00:05, 1797.15it/s]                                                                                            \n"
     ]
    },
    {
     "name": "stdout",
     "output_type": "stream",
     "text": [
      "test loss 79.7335135936737,accuracy 83.75%\n",
      "epoch: 3\n"
     ]
    },
    {
     "name": "stderr",
     "output_type": "stream",
     "text": [
      "Train:: 50048it [00:17, 2844.85it/s]                                                                                                 \n",
      "Validation:: 10048it [00:05, 1790.54it/s]                                                                                            \n"
     ]
    },
    {
     "name": "stdout",
     "output_type": "stream",
     "text": [
      "test loss 84.12095852196217,accuracy 83.32%\n",
      "epoch: 4\n"
     ]
    },
    {
     "name": "stderr",
     "output_type": "stream",
     "text": [
      "Train:: 50048it [00:17, 2884.75it/s]                                                                                                 \n",
      "Validation:: 10048it [00:05, 1798.75it/s]                                                                                            "
     ]
    },
    {
     "name": "stdout",
     "output_type": "stream",
     "text": [
      "test loss 80.80921545624733,accuracy 83.31%\n",
      "Wall time: 1min 55s\n"
     ]
    },
    {
     "name": "stderr",
     "output_type": "stream",
     "text": [
      "\n"
     ]
    }
   ],
   "source": [
    "%%time\n",
    "# 跑一个epoch大概十分钟\n",
    "# 实在太慢,就不在mac上运行了\n",
    "for epoch in range(5):\n",
    "    print('epoch:',epoch)\n",
    "    train()\n",
    "    test()"
   ]
  },
  {
   "cell_type": "code",
   "execution_count": 46,
   "id": "424549de-c7ef-4e8b-a517-49976ea1c551",
   "metadata": {},
   "outputs": [],
   "source": [
    "torch.save(net.state_dict(),\"loss80_accuracy83.pth\")"
   ]
  },
  {
   "cell_type": "code",
   "execution_count": null,
   "id": "20e8c532-f40b-440e-a6c7-68253dbe2f81",
   "metadata": {},
   "outputs": [],
   "source": []
  },
  {
   "cell_type": "code",
   "execution_count": null,
   "id": "0221e412-db4b-4eec-81e1-8d30864309a5",
   "metadata": {},
   "outputs": [],
   "source": []
  }
 ],
 "metadata": {
  "kernelspec": {
   "display_name": "Python 3 (ipykernel)",
   "language": "python",
   "name": "python3"
  },
  "language_info": {
   "codemirror_mode": {
    "name": "ipython",
    "version": 3
   },
   "file_extension": ".py",
   "mimetype": "text/x-python",
   "name": "python",
   "nbconvert_exporter": "python",
   "pygments_lexer": "ipython3",
   "version": "3.8.12"
  }
 },
 "nbformat": 4,
 "nbformat_minor": 5
}
