{
 "cells": [
  {
   "cell_type": "markdown",
   "id": "60cc9da3-2d04-4ddc-b0a2-03dcf1cea9ce",
   "metadata": {},
   "source": [
    "# shufflenetV2"
   ]
  },
  {
   "cell_type": "markdown",
   "id": "72cd636c-2f95-48e9-8fae-d5ec0b23d6f7",
   "metadata": {},
   "source": [
    "# 模型结构\n",
    "\n",
    "## 基本模块\n",
    "\n",
    "![pic](shufflenetv2_unit.jpg)\n",
    "\n",
    "## 模型骨架\n",
    "\n",
    "![pic](shufflenetv2_stru.jpg)"
   ]
  },
  {
   "cell_type": "code",
   "execution_count": 64,
   "id": "df59991c-a5f8-4e9f-9101-5c4511aaa80d",
   "metadata": {},
   "outputs": [
    {
     "name": "stdout",
     "output_type": "stream",
     "text": [
      "1.10.1\n"
     ]
    }
   ],
   "source": [
    "%matplotlib inline\n",
    "import torch\n",
    "from torch import nn\n",
    "from torch.nn import functional as F\n",
    "import torchvision.datasets as datasets\n",
    "import torchvision.transforms as transforms\n",
    "import torch.optim as optim\n",
    "from tqdm import tqdm\n",
    "import os\n",
    "print(torch.__version__)"
   ]
  },
  {
   "cell_type": "code",
   "execution_count": 65,
   "id": "3673df4a-02f1-4351-b25e-a26e06d85306",
   "metadata": {},
   "outputs": [],
   "source": [
    "# 基本单元    \n",
    "class ShuffleUnit(nn.Module):\n",
    "    def __init__(self,in_channel,out_channel,strides,grps=2):\n",
    "        super().__init__()\n",
    "        # strides 必须为1或2\n",
    "        if not strides in (1,2):\n",
    "            raise ValueError(\"input strides %s\",strides)\n",
    "        \n",
    "        self.strides=strides\n",
    "        self.groups=grps\n",
    "\n",
    "        # 涉及这种非翻倍维度变换的卷积,只在Conv1-stage2的时候有发生\n",
    "        # 而且只是主副branch都是变换到输出的一半,请注意,变换一定是1x1卷积发生变换,3x3是DW卷积,尺度不可变换\n",
    "        # pytorch官方就是这么实现的\n",
    "        mid_channel=out_channel//2\n",
    "        if(strides==1):\n",
    "            self.short=nn.Sequential()\n",
    "        else:\n",
    "            self.short=nn.Sequential(\n",
    "                nn.Conv2d(in_channel, in_channel, 3, stride=self.strides, padding=1, groups=in_channel, bias=False),\n",
    "                nn.BatchNorm2d(in_channel),\n",
    "                nn.Conv2d(in_channel, mid_channel, 1, bias=False),\n",
    "                nn.BatchNorm2d(mid_channel),\n",
    "                nn.ReLU6(inplace=True),\n",
    "            )\n",
    "        # 注意,3x3的DW卷积无法变换维度,只有1x1卷积可变换维度\n",
    "        self.branch=nn.Sequential(\n",
    "            nn.Conv2d(in_channel,mid_channel,1,bias=False),\n",
    "            nn.BatchNorm2d(mid_channel),\n",
    "            nn.ReLU6(inplace=True),\n",
    "            nn.Conv2d(mid_channel,mid_channel,3,stride=self.strides,padding=1,groups=mid_channel,bias=False),\n",
    "            nn.BatchNorm2d(mid_channel),\n",
    "            nn.Conv2d(mid_channel,mid_channel,1,bias=False),\n",
    "            nn.BatchNorm2d(mid_channel),\n",
    "            nn.ReLU6(inplace=True),\n",
    "        )\n",
    "    def forward(self,x):\n",
    "        if self.strides==1:\n",
    "            short,res=ShuffleUnit.channel_split(x)\n",
    "        else :\n",
    "            # strides=2,输入都为short和残差都是x\n",
    "            short=x\n",
    "            res=x\n",
    "        out=torch.cat((self.short(short),self.branch(res)),dim=1)\n",
    "        '''\n",
    "        默认2组混洗\n",
    "        '''\n",
    "        return ShuffleUnit.shuffle(out,self.groups)\n",
    "    \n",
    "    @staticmethod\n",
    "    def channel_split(x,grps=2):\n",
    "        # ncwh 按照c分成grps组,默认对半分\n",
    "        return x.chunk(grps,dim=1)\n",
    "    \n",
    "    @staticmethod\n",
    "    def shuffle(x, groups=2):\n",
    "        # 一半默认groups=2,当然也可以等于3或者其他值,但不易过大\n",
    "        # 对c按照groups混洗\n",
    "        N, C, H, W = x.size()\n",
    "        out = x.view(N, groups, C // groups, H, W).permute(0, 2, 1, 3, 4).contiguous().view(N, C, H, W)\n",
    "        return out"
   ]
  },
  {
   "cell_type": "code",
   "execution_count": 71,
   "id": "d43cc226-90d3-4b4f-8241-df57b4bdf2f3",
   "metadata": {},
   "outputs": [],
   "source": [
    "# 主结构\n",
    "class ShuffleNetV2(nn.Module):\n",
    "    '''\n",
    "    图片默认输入大小224x224\n",
    "    '''\n",
    "    output_channel=(\n",
    "        # 有关各种group对应每层的输出参数\n",
    "        # group的取值为1,2,3,4,8\n",
    "        (24,48,96,192,1024),\n",
    "        (24,116,232,464,1024),\n",
    "        (24,176,352,704,1024),\n",
    "        (24,244,488,976,2048),\n",
    "    )\n",
    "    repeat_times=(4,8,4)\n",
    "    scale=(0.5,1,1,5,2)\n",
    "    def __init__(self, scale=1,in_channel=3, class_num=10,pre_train=False):\n",
    "        super().__init__()\n",
    "        assert scale in self.scale\n",
    "        # 对应索引变为0,1,2,3\n",
    "        self.use_cfg=int(scale*2)-1\n",
    "        print(\"==use ShuffleNetV2 mode %s==\"%scale)\n",
    "        # 第一层正常卷积,跨距2\n",
    "        self.conv1 = nn.Sequential(\n",
    "                nn.Conv2d(in_channel, self.output_channel[self.use_cfg][0], kernel_size=3, stride=2, padding=1, bias=False),\n",
    "                nn.BatchNorm2d(24),\n",
    "                nn.ReLU(inplace=True)\n",
    "        )\n",
    "        self.maxpool = nn.MaxPool2d(kernel_size=3, stride=2, padding=1)\n",
    "        # 56x56x24\n",
    "        self.stage2 = self.make_layers(self.output_channel[self.use_cfg][0], self.output_channel[self.use_cfg][1], self.repeat_times[0], 2)\n",
    "        # 28x28\n",
    "        self.stage3 = self.make_layers(self.output_channel[self.use_cfg][1], self.output_channel[self.use_cfg][2], self.repeat_times[1], 2)\n",
    "        # 14x14\n",
    "        self.stage4 = self.make_layers(self.output_channel[self.use_cfg][2], self.output_channel[self.use_cfg][3], self.repeat_times[2], 2)\n",
    "        # 对应输出会有7x7x1024 和 7x7x2048\n",
    "        self.conv5 = nn.Sequential(\n",
    "                nn.Conv2d(self.output_channel[self.use_cfg][3], self.output_channel[self.use_cfg][4], 1, bias=False),\n",
    "                nn.BatchNorm2d(self.output_channel[self.use_cfg][4]),\n",
    "                nn.ReLU(inplace=True)\n",
    "        )\n",
    "        # 自适应池化后变为 batchx1x1x1024\n",
    "        self.avgpool = nn.AdaptiveAvgPool2d(1)\n",
    "        self.fc = nn.Linear(self.output_channel[self.use_cfg][4], class_num)\n",
    "        if not pre_train:\n",
    "            self.init_params()\n",
    "        \n",
    "    def make_layers(self, in_channels, output_channel, layers_num, stride):\n",
    "        layers = []\n",
    "        # 仅第一层跨距会为2\n",
    "        layers.append(ShuffleUnit(in_channels, output_channel, stride))\n",
    "        in_channels = output_channel\n",
    "        for i in range(layers_num - 1):\n",
    "            ShuffleUnit(in_channels, output_channel, 1)\n",
    "        return nn.Sequential(*layers)\n",
    "    def forward(self, x):\n",
    "        out = self.conv1(x)\n",
    "        out = self.maxpool(out)\n",
    "        out = self.stage2(out)\n",
    "        out = self.stage3(out)\n",
    "        out = self.stage4(out)\n",
    "        out = self.conv5(out)\n",
    "        out = self.avgpool(out)\n",
    "        # batch x1x1x1024展平\n",
    "        out = out.flatten(1)\n",
    "        out = self.fc(out)\n",
    "        return out\n",
    "\n",
    "    # 何凯明的方法初始化权重\n",
    "    def init_params(self):\n",
    "        for m in self.modules():\n",
    "            if isinstance(m, nn.Conv2d):\n",
    "                # 如果卷积操作后面没有使用激活函数，可以使用xavier_normal_\n",
    "                # 卷积后面有激活函数,用kaiming_normal_这个\n",
    "                nn.init.kaiming_normal_(m.weight)\n",
    "                # 因为这里没有bias,所以可以直接注释,对于有些有bias有些没有的地方,可以先判断再置0\n",
    "                # if m.bias!=None:\n",
    "                #     nn.init.constant_(m.bias, 0)\n",
    "            elif isinstance(m, nn.BatchNorm2d) or isinstance(m, nn.Linear):\n",
    "                nn.init.constant_(m.weight, 1)\n",
    "                nn.init.constant_(m.bias, 0)"
   ]
  },
  {
   "cell_type": "code",
   "execution_count": 72,
   "id": "14f8298c-f19b-47e4-8c9f-914bd2ec1f02",
   "metadata": {},
   "outputs": [
    {
     "name": "stdout",
     "output_type": "stream",
     "text": [
      "==use ShuffleNetV2 mode 0.5==\n"
     ]
    },
    {
     "data": {
      "text/plain": [
       "torch.Size([4, 10])"
      ]
     },
     "execution_count": 72,
     "metadata": {},
     "output_type": "execute_result"
    }
   ],
   "source": [
    "net=ShuffleNetV2(scale=0.5)\n",
    "# print(net)\n",
    "data=torch.randn(4,3,224,224)\n",
    "out=net(data)\n",
    "out.shape"
   ]
  },
  {
   "cell_type": "code",
   "execution_count": null,
   "id": "2997f51b-6b89-4ce9-9d91-9b36e44246b6",
   "metadata": {},
   "outputs": [],
   "source": []
  }
 ],
 "metadata": {
  "kernelspec": {
   "display_name": "Python 3 (ipykernel)",
   "language": "python",
   "name": "python3"
  },
  "language_info": {
   "codemirror_mode": {
    "name": "ipython",
    "version": 3
   },
   "file_extension": ".py",
   "mimetype": "text/x-python",
   "name": "python",
   "nbconvert_exporter": "python",
   "pygments_lexer": "ipython3",
   "version": "3.8.12"
  }
 },
 "nbformat": 4,
 "nbformat_minor": 5
}
