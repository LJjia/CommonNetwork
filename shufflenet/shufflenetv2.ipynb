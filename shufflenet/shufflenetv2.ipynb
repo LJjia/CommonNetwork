{
 "cells": [
  {
   "cell_type": "markdown",
   "id": "60cc9da3-2d04-4ddc-b0a2-03dcf1cea9ce",
   "metadata": {},
   "source": [
    "# shufflenetV2"
   ]
  },
  {
   "cell_type": "code",
   "execution_count": null,
   "id": "e55a1312-23b9-4a7c-9010-0123419ac3bc",
   "metadata": {},
   "outputs": [],
   "source": []
  }
 ],
 "metadata": {
  "kernelspec": {
   "display_name": "Python 3 (ipykernel)",
   "language": "python",
   "name": "python3"
  },
  "language_info": {
   "codemirror_mode": {
    "name": "ipython",
    "version": 3
   },
   "file_extension": ".py",
   "mimetype": "text/x-python",
   "name": "python",
   "nbconvert_exporter": "python",
   "pygments_lexer": "ipython3",
   "version": "3.8.12"
  }
 },
 "nbformat": 4,
 "nbformat_minor": 5
}
