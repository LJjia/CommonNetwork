{
 "cells": [
  {
   "cell_type": "markdown",
   "id": "48769ff4-c7f0-4347-9e94-af1cfc1ff54b",
   "metadata": {},
   "source": [
    "# mobilenetV1"
   ]
  },
  {
   "cell_type": "code",
   "execution_count": 28,
   "id": "b16aaf3d-567c-4ff7-8ab8-76cc41d72d2d",
   "metadata": {},
   "outputs": [
    {
     "name": "stdout",
     "output_type": "stream",
     "text": [
      "1.10.1\n"
     ]
    }
   ],
   "source": [
    "%matplotlib inline\n",
    "import torch\n",
    "from torch import nn\n",
    "from torch.nn import functional as F\n",
    "import torchvision.datasets as datasets\n",
    "import torchvision.transforms as transforms\n",
    "import torch.optim as optim\n",
    "from tqdm import tqdm\n",
    "import os\n",
    "print(torch.__version__)"
   ]
  },
  {
   "cell_type": "markdown",
   "id": "90f329de-2712-42ee-845e-66175899f96a",
   "metadata": {},
   "source": [
    "![image.png](mobilenetv1_stru.png)"
   ]
  },
  {
   "cell_type": "code",
   "execution_count": 2,
   "id": "1af65475-8e55-42a7-bb30-99a40f7ec06d",
   "metadata": {},
   "outputs": [],
   "source": [
    "class DPConv(nn.Module):\n",
    "    '''\n",
    "    Depthwise conv + Pointwise conv\n",
    "    '''\n",
    "    def __init__(self,in_channel,out_channel,size=3,pad=1,strides=1):\n",
    "        super().__init__()\n",
    "        # 不理解这里为什么bias=False不带偏置项了\n",
    "        self.conv1=nn.Conv2d(in_channel,in_channel,kernel_size=size,groups=in_channel,stride=strides,padding=1,bias=False)\n",
    "        self.bn1=nn.BatchNorm2d(in_channel)\n",
    "        # 1x1合并层,没有groups,也没有bias\n",
    "        self.conv2=nn.Conv2d(in_channel,out_channel,kernel_size=1,stride=1,padding=0,bias=False)\n",
    "        self.bn2=nn.BatchNorm2d(out_channel)\n",
    "    def forward(self,x):\n",
    "        out=self.conv1(x)\n",
    "        out=F.relu(self.bn1(out))\n",
    "        out=F.relu(self.bn2(self.conv2(out)))\n",
    "        return out\n",
    "    "
   ]
  },
  {
   "cell_type": "code",
   "execution_count": 9,
   "id": "77e1c19a-d922-4963-bc5f-9ea1c2dd646a",
   "metadata": {},
   "outputs": [],
   "source": [
    "class MobileNet(nn.Module):\n",
    "    '''\n",
    "    定义默认网络结构\n",
    "    输入图片默认大小224x224x3\n",
    "    输入要是32的倍数\n",
    "    '''\n",
    "    # 括号(128,2)表示输出通道128,stride=2\n",
    "    cfg=(64, (128,2),128, (256,2), 256, (512,2), \n",
    "           512, 512, 512, 512, 512, (1024,2), 1024)\n",
    "    # 第一层卷积的输出\n",
    "    first_conv=32\n",
    "    def __init__(self,input_channel=3,num_class=10):\n",
    "        super().__init__()\n",
    "        self.conv1=nn.Conv2d(input_channel,self.first_conv,kernel_size=3,padding=1,stride=2,bias=False)\n",
    "        self.bn1=nn.BatchNorm2d(self.first_conv)\n",
    "        self.bone=self.make_layers(self.first_conv)\n",
    "        self.avg=nn.AdaptiveAvgPool2d((1,1))\n",
    "        self.line=nn.Linear(1024,num_class)\n",
    "    def make_layers(self,in_channel):\n",
    "        layer=[]\n",
    "        for x in self.cfg:\n",
    "            if isinstance(x,tuple):\n",
    "                layer.append(DPConv(in_channel,x[0],strides=x[1]))\n",
    "                in_channel=x[0]\n",
    "            elif isinstance(x,int):\n",
    "                layer.append(DPConv(in_channel,x))\n",
    "                in_channel=x\n",
    "        return nn.Sequential(*layer)\n",
    "    def forward(self,x):\n",
    "        out=F.relu(self.bn1(self.conv1(x)))\n",
    "        out=self.bone(out)\n",
    "        out=self.line(self.avg(out).view(out.size(0),-1))\n",
    "        return out"
   ]
  },
  {
   "cell_type": "code",
   "execution_count": 26,
   "id": "cda51f21-6f26-49ae-9a56-8d5f1818d458",
   "metadata": {},
   "outputs": [
    {
     "name": "stdout",
     "output_type": "stream",
     "text": [
      "input shape torch.Size([1, 3, 224, 224])\n",
      "out shape torch.Size([1, 10])\n"
     ]
    }
   ],
   "source": [
    "# 测试\n",
    "x=torch.randn(1,3,224,224)\n",
    "print('input shape',x.shape)\n",
    "net=MobileNet()\n",
    "# print(net)\n",
    "out=net(x)\n",
    "print('out shape',out.shape)\n",
    "# net"
   ]
  },
  {
   "cell_type": "markdown",
   "id": "06976a11-844c-4bc1-a9aa-94b860a2123b",
   "metadata": {},
   "source": [
    "## 数据加载模块"
   ]
  },
  {
   "cell_type": "code",
   "execution_count": 30,
   "id": "a4f542d6-ffe4-4015-9339-10b2d4883433",
   "metadata": {},
   "outputs": [],
   "source": [
    "#prepare dataset and preprocessing\n",
    "transform_train = transforms.Compose([\n",
    "    transforms.RandomCrop(32, padding=4),\n",
    "    transforms.RandomHorizontalFlip(),\n",
    "    # 至少要加上下面这句ToTensor\n",
    "    transforms.ToTensor(),\n",
    "    # ciaf10固有均值标准差\n",
    "    transforms.Normalize((0.4914, 0.4822, 0.4465), (0.2023, 0.1994, 0.2010))\n",
    "])\n",
    "\n",
    "transform_test = transforms.Compose([\n",
    "    # 至少要加上下面这句ToTensor\n",
    "    transforms.ToTensor(),\n",
    "    transforms.Normalize((0.4914, 0.4822, 0.4465), (0.2023, 0.1994, 0.2010))\n",
    "])"
   ]
  },
  {
   "cell_type": "code",
   "execution_count": null,
   "id": "4be0285b-0212-49bb-829a-86de229b4b0a",
   "metadata": {},
   "outputs": [],
   "source": [
    "# minist数据集\n",
    "# 正常来说,train_set这个类是需要自己定义的,但是在官方数据集中已经给定义好了\n",
    "data_dir=\"D:/data/image/\"\n",
    "if not os.path.exists(data_dir):\n",
    "    # 尝试mac的文件夹\n",
    "    data_dir=\"~/data\"\n",
    "    if not os.path.exists(data_dir):\n",
    "            raise FileExistsError(\"data source not exist!\")\n",
    "train_set=datasets.CIFAR10(root=data_dir,\n",
    "                        transform=transform_train,\n",
    "                        train=True,\n",
    "                        download=True)\n",
    "\n",
    "val_set=datasets.CIFAR10(root=data_dir,\n",
    "                        transform=transform_test,\n",
    "                        train=False,\n",
    "                        download=True)\n",
    "print('train data',len(train_set))\n",
    "print('val data',len(train_set))"
   ]
  },
  {
   "cell_type": "code",
   "execution_count": null,
   "id": "f4eb0905-f29f-42a2-a7ad-7b26f202328a",
   "metadata": {},
   "outputs": [],
   "source": []
  },
  {
   "cell_type": "code",
   "execution_count": null,
   "id": "4082e1b6-259d-478c-a030-9ad9d129f275",
   "metadata": {},
   "outputs": [],
   "source": []
  },
  {
   "cell_type": "markdown",
   "id": "e034ddde-fa07-4137-addc-378da7f9a5fc",
   "metadata": {},
   "source": [
    "显示结构图\n",
    "\n",
    "```shell\n",
    "# 使用之前先运行\n",
    "~/PythonCode/selfProject/CommonNetwork   main ●  tensorboard --logdir ./mobilenet\n",
    "```"
   ]
  },
  {
   "cell_type": "code",
   "execution_count": 27,
   "id": "540ddb34-c9ac-4308-b54b-4521f35ddef5",
   "metadata": {},
   "outputs": [],
   "source": [
    "from torch.utils.tensorboard import SummaryWriter\n",
    "with SummaryWriter(log_dir='./', comment='mobilenet') as writer:\n",
    "    writer.add_graph(net, x)"
   ]
  },
  {
   "cell_type": "markdown",
   "id": "0947252f-ecd8-4685-ae72-414df1b15170",
   "metadata": {},
   "source": [
    "## 求损失,单独写一个类来求"
   ]
  },
  {
   "cell_type": "code",
   "execution_count": 15,
   "id": "537caf3c-bab4-4a0c-93c5-f3699d7b7633",
   "metadata": {},
   "outputs": [],
   "source": [
    "class CalcLoss(nn.Module):\n",
    "    def __init__(self,num_classes=10):\n",
    "        self.criterion=nn.CrossEntropyLoss()\n",
    "    def forward(self,y_true,y_pred):\n",
    "        return self.criterion(y_true,y_pred)\n"
   ]
  },
  {
   "cell_type": "code",
   "execution_count": 19,
   "id": "956c6e81-7108-4dd3-af06-c32d0dba68c2",
   "metadata": {},
   "outputs": [],
   "source": [
    "class TrainModel(object):\n",
    "    _default={\n",
    "        \"eopch\":2,\n",
    "    }\n",
    "    def __init__(self,net,loss,train_dataloder,optimizer,**kwargs):\n",
    "        '''\n",
    "        还支持传入字典参数\n",
    "        '''\n",
    "        self.__dict__.update(self._defaults)\n",
    "        self.net=net\n",
    "        self.loss=loss\n",
    "        self.dataloder=train_dataloder\n",
    "        self.optimizer=optimizer\n",
    "        for name, value in kwargs.items():\n",
    "            setattr(self, name, value)\n",
    "        self.device='cuda' if torch.cuda.is_available() else \"cpu\"\n",
    "    def train(train_total_len,batch_size):\n",
    "        self.net.train()\n",
    "        # 需要注意这里写的是train_set的长度,如果写错成train_loader,返回的是数据集一共有多少个batch\n",
    "        with tqdm(total=train_total_len,desc=f'Train:') as pbar:\n",
    "            for idx,data in enumerate(self.train_loader):\n",
    "                data,label=data\n",
    "                data,label=data.to(self.device),label.to(self.device)\n",
    "                self.optimizer.zero_grad()\n",
    "                # forward\n",
    "                outputs=self.net(data)\n",
    "                loss=self.loss(outputs,label)\n",
    "                loss.backward()\n",
    "                self.optimizer.step()\n",
    "                # 更新进度条\n",
    "                pbar.update(batch_size)\n"
   ]
  },
  {
   "cell_type": "code",
   "execution_count": 24,
   "id": "6f7bfb58-3daa-457b-96ae-dded26dec8bb",
   "metadata": {},
   "outputs": [],
   "source": [
    "class TestModel(object):\n",
    "    _default={\n",
    "    \"eopch\":1,\n",
    "    }\n",
    "    def __init__(self,net,loss,val_dataloder,**kwargs):\n",
    "        '''\n",
    "        还支持传入字典参数\n",
    "        '''\n",
    "        self.__dict__.update(self._defaults)\n",
    "        self.net=net\n",
    "        self.loss=loss\n",
    "        self.dataloder=val_dataloder\n",
    "        for name, value in kwargs.items():\n",
    "            setattr(self, name, value)\n",
    "        self.device='cuda' if torch.cuda.is_available() else \"cpu\"\n",
    "    def test(total_num,batch_size):\n",
    "        # eval 模式下,dropout失效,bn层参数采用之前训练的,不更新\n",
    "        self.net.eval()\n",
    "        val_loss=0\n",
    "        correct=0\n",
    "        with tqdm(total=total_num,desc=f'Validation:') as pbar:\n",
    "            # 不计算损失,这样速度更快\n",
    "            with torch.no_grad():\n",
    "                for idx,data in enumerate(self.val_loader):\n",
    "                    x,y=data\n",
    "                    x,y=x.to(device),y.to(device)\n",
    "                    y_pre=self.net(x)\n",
    "                    val_loss+=self.loss(y_pre,y).item()\n",
    "                    # max 第一个返回的是元素值,第二个为索引值\n",
    "                    # 求第一个维度的max,因此结果返回的是batch维度的max\n",
    "                    # 返回是一个第一个元素为值,第二个元素为idx的tuple\n",
    "                    pred=torch.max(y_pre,dim=1)[1]\n",
    "\n",
    "                    # pred维度为batch,每个元素为索引\n",
    "                    correct+=pred.eq(y).sum().item()\n",
    "                    # 更新进度条\n",
    "                    pbar.update(batch_size)\n",
    "            # 格式化打印直接有% 带f%这种{:.2f%}是错的格式,format这种有点坑\n",
    "            print(\"test loss {},accuracy {:.2%}\".format(val_loss,correct/total_num))"
   ]
  },
  {
   "cell_type": "code",
   "execution_count": null,
   "id": "fa908546-4653-4cfb-b1f8-61e84c259f5b",
   "metadata": {},
   "outputs": [],
   "source": []
  },
  {
   "cell_type": "code",
   "execution_count": null,
   "id": "6d5c18bf-78d5-4a59-9089-121c23ef8a49",
   "metadata": {},
   "outputs": [],
   "source": []
  },
  {
   "cell_type": "code",
   "execution_count": null,
   "id": "24f535b2-b98a-4661-a048-e3d89dd4e08f",
   "metadata": {},
   "outputs": [],
   "source": []
  }
 ],
 "metadata": {
  "kernelspec": {
   "display_name": "Python 3 (ipykernel)",
   "language": "python",
   "name": "python3"
  },
  "language_info": {
   "codemirror_mode": {
    "name": "ipython",
    "version": 3
   },
   "file_extension": ".py",
   "mimetype": "text/x-python",
   "name": "python",
   "nbconvert_exporter": "python",
   "pygments_lexer": "ipython3",
   "version": "3.8.12"
  }
 },
 "nbformat": 4,
 "nbformat_minor": 5
}
